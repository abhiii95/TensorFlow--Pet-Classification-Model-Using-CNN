{
 "cells": [
  {
   "cell_type": "markdown",
   "id": "63a22d99",
   "metadata": {},
   "source": [
    "# Pet Classification Model using CNN"
   ]
  },
  {
   "cell_type": "markdown",
   "id": "28aa3baf",
   "metadata": {},
   "source": [
    "#Begin by creating the ipynb file in the same parent folder where the downloaded data set is kept. \n",
    "#The CNN model should have the following layers: \n",
    "● Input layer \n",
    "● Convolutional layer 1 with 32 filters of kernel size[5,5] \n",
    "● Pooling layer 1 with pool size[2,2] and stride 2 \n",
    "● Convolutional layer 2 with 64 filters of kernel size[5,5] \n",
    "● Pooling layer 2 with pool size[2,2] and stride 2 \n",
    "● Dense layer whose output size is fixed in the hyper parameter: fc_size=32 \n",
    "● Dropout layer with dropout probability 0.4 Predict the class by doing a softmax on the output of the dropout layers. \n",
    "\n",
    "This should be followed by training and evaluation: \n",
    "    ● For the training step, define the loss function and minimize it \n",
    "    ● For the evaluation step, calculate the accuracy Run the program for 100, 200, and 300 iterations, respectively. \n",
    "\n",
    "Follow this by a report on the final accuracy and loss on the evaluation data."
   ]
  },
  {
   "cell_type": "code",
   "execution_count": null,
   "id": "f7865972",
   "metadata": {},
   "outputs": [],
   "source": [
    "#import all the require labraries"
   ]
  },
  {
   "cell_type": "code",
   "execution_count": null,
   "id": "76d5b390",
   "metadata": {},
   "outputs": [],
   "source": [
    "import tensorflow as tf\n",
    "from tensorflow import keras\n",
    "from keras.preprocessing.image import ImageDataGenerator\n",
    "from tensorflow.keras import models, layers"
   ]
  },
  {
   "cell_type": "code",
   "execution_count": null,
   "id": "d3da9a58",
   "metadata": {},
   "outputs": [],
   "source": [
    "dataflow = ImageDataGenerator(rescale = 1.0 / 255.0 )"
   ]
  },
  {
   "cell_type": "code",
   "execution_count": null,
   "id": "48717617",
   "metadata": {},
   "outputs": [],
   "source": [
    "#import training data from file \n",
    "train = dataflow.flow_from_directory('../input/dog-cat-classification/data/train', class_mode = 'categorical')"
   ]
  },
  {
   "cell_type": "code",
   "execution_count": null,
   "id": "f2f50ea5",
   "metadata": {},
   "outputs": [],
   "source": [
    "#import test data from file\n",
    "test = dataflow.flow_from_directory('../input/dog-cat-classification/data/test', class_mode = 'categorical')"
   ]
  },
  {
   "cell_type": "code",
   "execution_count": null,
   "id": "a5253e64",
   "metadata": {},
   "outputs": [],
   "source": [
    "#build model according to \n",
    "#Input layer ● Convolutional layer 1 with 32 filters of kernel size[5,5] \n",
    "#Pooling layer 1 with pool size[2,2] and stride\n",
    "#Convolutional layer 2 with 64 filters of kernel size[5,5]\n",
    "#Pooling layer 2 with pool size[2,2] and stride 2\n",
    "#Dense layer whose output size is fixed in the hyper parameter: fc_size=32 \n",
    "#Dropout layer with dropout probability 0.4 Predict the class by doing a softmax on the output of the dropout layers. This should be followed by train"
   ]
  },
  {
   "cell_type": "code",
   "execution_count": null,
   "id": "e071bbf3",
   "metadata": {},
   "outputs": [],
   "source": [
    "model = models.Sequential()\n",
    "model.add( layers.Conv2D( 32, (5, 5 ), activation = 'relu', padding = 'same', input_shape = (256,  256 , 3 )))\n",
    "model.add(layers.MaxPooling2D(2,2))\n",
    "model.add(layers.Conv2D(64, (5, 5 ), activation = 'relu'))\n",
    "model.add(layers.MaxPooling2D((2,2)))\n",
    "model.add(layers.Dropout(0.4))\n",
    "model.add(layers.Flatten())\n",
    "model.add(layers.Dense(32, activation = 'relu'))\n",
    "model.add(layers.Dense(2, activation = 'softmax'))"
   ]
  },
  {
   "cell_type": "code",
   "execution_count": null,
   "id": "193213bf",
   "metadata": {},
   "outputs": [],
   "source": [
    "#For the training step, define the loss function and minimize it\n",
    "sgd_opt = tf.keras.optimizers.SGD(lr = 0.001)"
   ]
  },
  {
   "cell_type": "code",
   "execution_count": null,
   "id": "34755794",
   "metadata": {},
   "outputs": [],
   "source": [
    "#compiling model\n",
    "history=model.compile( optimizer = sgd_opt, loss = 'binary_crossentropy', metrics =  ['accuracy'])"
   ]
  },
  {
   "cell_type": "code",
   "execution_count": null,
   "id": "8b86efa0",
   "metadata": {},
   "outputs": [],
   "source": [
    "#model train for 100 epochs \n",
    "history =model.fit(train, validation_data = test, epochs =100)"
   ]
  },
  {
   "cell_type": "code",
   "execution_count": null,
   "id": "644734f5",
   "metadata": {},
   "outputs": [],
   "source": [
    "test_loss, test_accuracy = model.evaluate(test)"
   ]
  },
  {
   "cell_type": "code",
   "execution_count": null,
   "id": "414ae4dc",
   "metadata": {},
   "outputs": [],
   "source": [
    "test_loss"
   ]
  },
  {
   "cell_type": "code",
   "execution_count": null,
   "id": "a5f34e8d",
   "metadata": {},
   "outputs": [],
   "source": [
    "from matplotlib import pyplot as plt \n",
    "\n",
    "plt.plot(history.history['accuracy'])\n",
    "plt.plot(history.history['val_accuracy'])\n",
    "plt.title('Accuracy')\n",
    "plt.ylabel('accuracy')\n",
    "plt.xlabel('epochs')\n",
    "plt.legend(['train', 'test'], loc = 'upper right')\n",
    "plt.show()"
   ]
  },
  {
   "cell_type": "code",
   "execution_count": null,
   "id": "5785c849",
   "metadata": {},
   "outputs": [],
   "source": [
    "history =model.fit(train, validation_data = test, epochs =200)"
   ]
  },
  {
   "cell_type": "code",
   "execution_count": null,
   "id": "105d3689",
   "metadata": {},
   "outputs": [],
   "source": [
    "test_loss, test_accuracy = model.evaluate(test)"
   ]
  },
  {
   "cell_type": "code",
   "execution_count": null,
   "id": "5731ea33",
   "metadata": {},
   "outputs": [],
   "source": [
    "test_loss"
   ]
  },
  {
   "cell_type": "code",
   "execution_count": null,
   "id": "c2d24722",
   "metadata": {},
   "outputs": [],
   "source": [
    "from matplotlib import pyplot as plt \n",
    "\n",
    "plt.plot(history.history['accuracy'])\n",
    "plt.plot(history.history['val_accuracy'])\n",
    "plt.title('Accuracy')\n",
    "plt.ylabel('accuracy')\n",
    "plt.xlabel('epochs')\n",
    "plt.legend(['train', 'test'], loc = 'upper right')\n",
    "plt.show()"
   ]
  },
  {
   "cell_type": "code",
   "execution_count": null,
   "id": "20c9efe4",
   "metadata": {},
   "outputs": [],
   "source": [
    "history =model.fit(train, validation_data = test, epochs =300)"
   ]
  },
  {
   "cell_type": "code",
   "execution_count": null,
   "id": "3c838ec6",
   "metadata": {},
   "outputs": [],
   "source": [
    "from matplotlib import pyplot as plt \n",
    "\n",
    "plt.plot(history.history['accuracy'])\n",
    "plt.plot(history.history['val_accuracy'])\n",
    "plt.title('Accuracy')\n",
    "plt.ylabel('accuracy')\n",
    "plt.xlabel('epochs')\n",
    "plt.legend(['train', 'test'], loc = 'upper right')\n",
    "plt.show()"
   ]
  },
  {
   "cell_type": "code",
   "execution_count": null,
   "id": "5fe18f32",
   "metadata": {},
   "outputs": [],
   "source": [
    "test_loss, test_accuracy = model.evaluate(test)"
   ]
  },
  {
   "cell_type": "code",
   "execution_count": null,
   "id": "fce957f7",
   "metadata": {},
   "outputs": [],
   "source": [
    "test_loss"
   ]
  }
 ],
 "metadata": {
  "kernelspec": {
   "display_name": "Python 3 (ipykernel)",
   "language": "python",
   "name": "python3"
  },
  "language_info": {
   "codemirror_mode": {
    "name": "ipython",
    "version": 3
   },
   "file_extension": ".py",
   "mimetype": "text/x-python",
   "name": "python",
   "nbconvert_exporter": "python",
   "pygments_lexer": "ipython3",
   "version": "3.9.12"
  }
 },
 "nbformat": 4,
 "nbformat_minor": 5
}
